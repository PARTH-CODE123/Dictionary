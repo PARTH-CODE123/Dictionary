{
 "cells": [
  {
   "cell_type": "code",
   "execution_count": 1,
   "id": "baadb6d8",
   "metadata": {},
   "outputs": [],
   "source": [
    "import json\n",
    "from difflib import get_close_matches\n",
    "data = json.load(open(\"data.json\"))"
   ]
  },
  {
   "cell_type": "code",
   "execution_count": 2,
   "id": "7c0741f6",
   "metadata": {},
   "outputs": [],
   "source": [
    "def translate(word):\n",
    "    word=word.lower()\n",
    "    if word in data:\n",
    "        return data[word]\n",
    "    elif word.title() in data:\n",
    "        return data[word.title()]\n",
    "    elif word.upper() in data:\n",
    "        return data[word.upper()]\n",
    "    elif len(get_close_matches(word , data.keys())) > 0 :\n",
    "        print(\"did you mean %s instead\" %get_close_matches(word, data.keys())[0])\n",
    "        decide = input(\"press y for yes or n for no\")\n",
    "        if decide == \"y\":\n",
    "            return data[get_close_matches(word , data.keys())[0]]\n",
    "        elif decide == \"n\":\n",
    "            return(\"pugger your paw steps on wrong keys \")\n",
    "        else:\n",
    "            return(\"You have entered wrong input please enter just y or n\")\n",
    "    else:\n",
    "        print(\"pugger your paw steps on wrong keys\")"
   ]
  },
  {
   "cell_type": "code",
   "execution_count": 4,
   "id": "664142f0",
   "metadata": {},
   "outputs": [
    {
     "name": "stdout",
     "output_type": "stream",
     "text": [
      "enter your word to search-> drugg\n",
      "did you mean drug instead\n",
      "press y for yes or n for noy\n",
      "A substance which specifically promotes healing.\n",
      "A substance that alters the way the mind or body works.\n",
      "To administer intoxicating drugs to, generally without the recipient's knowledge or consent.\n",
      "To add intoxicating drugs to something with the intention of drugging someone.\n",
      "\n",
      "Thanks for Searching in Dictionary\n"
     ]
    }
   ],
   "source": [
    "word=input(\"enter your word to search-> \")\n",
    "output=translate(word)\n",
    "if type(output) == list:\n",
    "    for item in output:\n",
    "        print(item)\n",
    "else:\n",
    "    print(output)\n",
    "print(\"\\nThanks for Searching in Dictionary\")"
   ]
  },
  {
   "cell_type": "code",
   "execution_count": null,
   "id": "b46ae0d8",
   "metadata": {},
   "outputs": [],
   "source": []
  }
 ],
 "metadata": {
  "kernelspec": {
   "display_name": "Python 3 (ipykernel)",
   "language": "python",
   "name": "python3"
  },
  "language_info": {
   "codemirror_mode": {
    "name": "ipython",
    "version": 3
   },
   "file_extension": ".py",
   "mimetype": "text/x-python",
   "name": "python",
   "nbconvert_exporter": "python",
   "pygments_lexer": "ipython3",
   "version": "3.9.12"
  }
 },
 "nbformat": 4,
 "nbformat_minor": 5
}
